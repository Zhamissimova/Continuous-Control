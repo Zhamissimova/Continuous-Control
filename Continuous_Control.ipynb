{
 "cells": [
  {
   "cell_type": "markdown",
   "metadata": {},
   "source": [
    "# Continuous Control\n",
    "\n",
    "---\n",
    "\n",
    "You are welcome to use this coding environment to train your agent for the project.  Follow the instructions below to get started!\n",
    "\n",
    "### 1. Start the Environment\n",
    "\n",
    "Run the next code cell to install a few packages.  This line will take a few minutes to run!"
   ]
  },
  {
   "cell_type": "code",
   "execution_count": 1,
   "metadata": {},
   "outputs": [],
   "source": [
    "!pip -q install ./python"
   ]
  },
  {
   "cell_type": "code",
   "execution_count": 2,
   "metadata": {},
   "outputs": [],
   "source": [
    "import gym\n",
    "import random\n",
    "import torch\n",
    "from collections import deque\n",
    "import matplotlib.pyplot as plt\n",
    "%matplotlib inline"
   ]
  },
  {
   "cell_type": "markdown",
   "metadata": {},
   "source": [
    "The environments corresponding to both versions of the environment are already saved in the Workspace and can be accessed at the file paths provided below.  \n",
    "\n",
    "Please select one of the two options below for loading the environment."
   ]
  },
  {
   "cell_type": "code",
   "execution_count": 3,
   "metadata": {},
   "outputs": [
    {
     "name": "stderr",
     "output_type": "stream",
     "text": [
      "INFO:unityagents:\n",
      "'Academy' started successfully!\n",
      "Unity Academy name: Academy\n",
      "        Number of Brains: 1\n",
      "        Number of External Brains : 1\n",
      "        Lesson number : 0\n",
      "        Reset Parameters :\n",
      "\t\tgoal_size -> 5.0\n",
      "\t\tgoal_speed -> 1.0\n",
      "Unity brain name: ReacherBrain\n",
      "        Number of Visual Observations (per agent): 0\n",
      "        Vector Observation space type: continuous\n",
      "        Vector Observation space size (per agent): 33\n",
      "        Number of stacked Vector Observation: 1\n",
      "        Vector Action space type: continuous\n",
      "        Vector Action space size (per agent): 4\n",
      "        Vector Action descriptions: , , , \n"
     ]
    }
   ],
   "source": [
    "from unityagents import UnityEnvironment\n",
    "import numpy as np\n",
    "\n",
    "# select this option to load version 1 (with a single agent) of the environment\n",
    "#env = UnityEnvironment(file_name='/data/Reacher_One_Linux_NoVis/Reacher_One_Linux_NoVis.x86_64')\n",
    "\n",
    "# select this option to load version 2 (with 20 agents) of the environment\n",
    "env = UnityEnvironment(file_name='/data/Reacher_Linux_NoVis/Reacher.x86_64')"
   ]
  },
  {
   "cell_type": "markdown",
   "metadata": {},
   "source": [
    "Environments contain **_brains_** which are responsible for deciding the actions of their associated agents. Here we check for the first brain available, and set it as the default brain we will be controlling from Python."
   ]
  },
  {
   "cell_type": "code",
   "execution_count": 4,
   "metadata": {},
   "outputs": [],
   "source": [
    "# get the default brain\n",
    "brain_name = env.brain_names[0]\n",
    "brain = env.brains[brain_name]"
   ]
  },
  {
   "cell_type": "markdown",
   "metadata": {},
   "source": [
    "### 2. Examine the State and Action Spaces\n",
    "\n",
    "Run the code cell below to print some information about the environment."
   ]
  },
  {
   "cell_type": "code",
   "execution_count": 5,
   "metadata": {},
   "outputs": [
    {
     "name": "stdout",
     "output_type": "stream",
     "text": [
      "Number of agents: 20\n",
      "Size of each action: 4\n",
      "There are 20 agents. Each observes a state with length: 33\n",
      "The state for the first agent looks like: [  0.00000000e+00  -4.00000000e+00   0.00000000e+00   1.00000000e+00\n",
      "  -0.00000000e+00  -0.00000000e+00  -4.37113883e-08   0.00000000e+00\n",
      "   0.00000000e+00   0.00000000e+00   0.00000000e+00   0.00000000e+00\n",
      "   0.00000000e+00   0.00000000e+00  -1.00000000e+01   0.00000000e+00\n",
      "   1.00000000e+00  -0.00000000e+00  -0.00000000e+00  -4.37113883e-08\n",
      "   0.00000000e+00   0.00000000e+00   0.00000000e+00   0.00000000e+00\n",
      "   0.00000000e+00   0.00000000e+00   5.75471878e+00  -1.00000000e+00\n",
      "   5.55726624e+00   0.00000000e+00   1.00000000e+00   0.00000000e+00\n",
      "  -1.68164849e-01]\n"
     ]
    }
   ],
   "source": [
    "# reset the environment\n",
    "env_info = env.reset(train_mode=True)[brain_name]\n",
    "\n",
    "# number of agents\n",
    "num_agents = len(env_info.agents)\n",
    "print('Number of agents:', num_agents)\n",
    "\n",
    "# size of each action\n",
    "action_size = brain.vector_action_space_size\n",
    "print('Size of each action:', action_size)\n",
    "\n",
    "# examine the state space \n",
    "states = env_info.vector_observations\n",
    "state_size = states.shape[1]\n",
    "print('There are {} agents. Each observes a state with length: {}'.format(states.shape[0], state_size))\n",
    "print('The state for the first agent looks like:', states[0])"
   ]
  },
  {
   "cell_type": "markdown",
   "metadata": {},
   "source": [
    "### 3. Take Random Actions in the Environment\n",
    "\n",
    "In the next code cell, you will learn how to use the Python API to control the agent and receive feedback from the environment.\n",
    "\n",
    "Note that **in this coding environment, you will not be able to watch the agents while they are training**, and you should set `train_mode=True` to restart the environment."
   ]
  },
  {
   "cell_type": "code",
   "execution_count": 6,
   "metadata": {},
   "outputs": [
    {
     "name": "stdout",
     "output_type": "stream",
     "text": [
      "Total score (averaged over agents) this episode: 0.17449999609962105\n"
     ]
    }
   ],
   "source": [
    "env_info = env.reset(train_mode=True)[brain_name]      # reset the environment    \n",
    "states = env_info.vector_observations                  # get the current state (for each agent)\n",
    "scores = np.zeros(num_agents)                          # initialize the score (for each agent)\n",
    "while True:\n",
    "    actions = np.random.randn(num_agents, action_size) # select an action (for each agent)\n",
    "    actions = np.clip(actions, -1, 1)                  # all actions between -1 and 1\n",
    "    \n",
    "    env_info = env.step(actions)[brain_name]           # send all actions to tne environment\n",
    "    next_states = env_info.vector_observations         # get next state (for each agent)\n",
    "    \n",
    "    rewards = env_info.rewards                         # get reward (for each agent)\n",
    "    \n",
    "    dones = env_info.local_done                        # see if episode finished\n",
    "    scores += env_info.rewards                         # update the score (for each agent)\n",
    "    states = next_states                               # roll over states to next time step\n",
    "    if np.any(dones):                                  # exit loop if episode finished\n",
    "        break\n",
    "print('Total score (averaged over agents) this episode: {}'.format(np.mean(scores)))"
   ]
  },
  {
   "cell_type": "markdown",
   "metadata": {},
   "source": [
    "### 4. It's Your Turn!\n",
    "\n",
    "Now it's your turn to train your own agent to solve the environment!  A few **important notes**:\n",
    "- When training the environment, set `train_mode=True`, so that the line for resetting the environment looks like the following:\n",
    "```python\n",
    "env_info = env.reset(train_mode=True)[brain_name]\n",
    "```\n",
    "- To structure your work, you're welcome to work directly in this Jupyter notebook, or you might like to start over with a new file!  You can see the list of files in the workspace by clicking on **_Jupyter_** in the top left corner of the notebook.\n",
    "- In this coding environment, you will not be able to watch the agents while they are training.  However, **_after training the agents_**, you can download the saved model weights to watch the agents on your own machine! "
   ]
  },
  {
   "cell_type": "code",
   "execution_count": 7,
   "metadata": {},
   "outputs": [],
   "source": [
    "from ddpg_agent import Agent\n",
    "agent = Agent(state_size=state_size, action_size=action_size, random_seed=10)"
   ]
  },
  {
   "cell_type": "code",
   "execution_count": 8,
   "metadata": {
    "scrolled": false
   },
   "outputs": [
    {
     "name": "stdout",
     "output_type": "stream",
     "text": [
      "Episode 1, Average Score: 0.01, Max: 0.10, Min: 0.00\n",
      "Episode 2, Average Score: 0.01, Max: 0.07, Min: 0.00\n",
      "Episode 3, Average Score: 0.02, Max: 0.26, Min: 0.00\n",
      "Episode 4, Average Score: 0.02, Max: 0.13, Min: 0.00\n",
      "Episode 5, Average Score: 0.05, Max: 0.50, Min: 0.00\n",
      "Episode 6, Average Score: 0.07, Max: 0.87, Min: 0.00\n",
      "Episode 7, Average Score: 0.14, Max: 1.74, Min: 0.13\n",
      "Episode 8, Average Score: 0.19, Max: 1.25, Min: 0.11\n",
      "Episode 9, Average Score: 0.27, Max: 2.46, Min: 0.15\n",
      "Episode 10, Average Score: 0.35, Max: 1.67, Min: 0.46\n",
      "Episode 11, Average Score: 0.44, Max: 2.66, Min: 0.31\n",
      "Episode 12, Average Score: 0.47, Max: 1.69, Min: 0.18\n",
      "Episode 13, Average Score: 0.50, Max: 1.84, Min: 0.00\n",
      "Episode 14, Average Score: 0.52, Max: 2.02, Min: 0.07\n",
      "Episode 15, Average Score: 0.53, Max: 2.45, Min: 0.00\n",
      "Episode 16, Average Score: 0.51, Max: 0.79, Min: 0.00\n",
      "Episode 17, Average Score: 0.52, Max: 1.66, Min: 0.00\n",
      "Episode 18, Average Score: 0.54, Max: 2.49, Min: 0.07\n",
      "Episode 19, Average Score: 0.56, Max: 2.59, Min: 0.10\n",
      "Episode 20, Average Score: 0.58, Max: 3.06, Min: 0.24\n",
      "Episode 21, Average Score: 0.61, Max: 2.29, Min: 0.20\n",
      "Episode 22, Average Score: 0.67, Max: 2.90, Min: 0.19\n",
      "Episode 23, Average Score: 0.71, Max: 3.68, Min: 0.16\n",
      "Episode 24, Average Score: 0.75, Max: 3.26, Min: 0.31\n",
      "Episode 25, Average Score: 0.81, Max: 4.94, Min: 0.42\n",
      "Episode 26, Average Score: 0.88, Max: 4.33, Min: 0.41\n",
      "Episode 27, Average Score: 0.94, Max: 4.42, Min: 0.85\n",
      "Episode 28, Average Score: 1.00, Max: 5.42, Min: 1.13\n",
      "Episode 29, Average Score: 1.05, Max: 4.88, Min: 0.67\n",
      "Episode 30, Average Score: 1.14, Max: 8.42, Min: 1.15\n",
      "Episode 31, Average Score: 1.23, Max: 10.31, Min: 1.67\n",
      "Episode 32, Average Score: 1.33, Max: 7.45, Min: 1.55\n",
      "Episode 33, Average Score: 1.40, Max: 13.07, Min: 0.75\n",
      "Episode 34, Average Score: 1.46, Max: 6.99, Min: 0.97\n",
      "Episode 35, Average Score: 1.53, Max: 5.84, Min: 2.11\n",
      "Episode 36, Average Score: 1.59, Max: 6.54, Min: 1.45\n",
      "Episode 37, Average Score: 1.64, Max: 7.21, Min: 1.26\n",
      "Episode 38, Average Score: 1.69, Max: 4.70, Min: 2.30\n",
      "Episode 39, Average Score: 1.74, Max: 6.28, Min: 2.16\n",
      "Episode 40, Average Score: 1.81, Max: 6.98, Min: 2.57\n",
      "Episode 41, Average Score: 1.88, Max: 7.06, Min: 1.18\n",
      "Episode 42, Average Score: 2.00, Max: 20.48, Min: 2.87\n",
      "Episode 43, Average Score: 2.07, Max: 6.79, Min: 2.80\n",
      "Episode 44, Average Score: 2.19, Max: 13.34, Min: 3.37\n",
      "Episode 45, Average Score: 2.30, Max: 13.18, Min: 3.92\n",
      "Episode 46, Average Score: 2.43, Max: 13.92, Min: 0.24\n",
      "Episode 47, Average Score: 2.55, Max: 17.93, Min: 2.55\n",
      "Episode 48, Average Score: 2.67, Max: 13.21, Min: 0.32\n",
      "Episode 49, Average Score: 2.82, Max: 26.41, Min: 3.95\n",
      "Episode 50, Average Score: 2.98, Max: 17.34, Min: 6.38\n",
      "Episode 51, Average Score: 3.15, Max: 20.39, Min: 7.38\n",
      "Episode 52, Average Score: 3.32, Max: 17.71, Min: 3.82\n",
      "Episode 53, Average Score: 3.55, Max: 30.75, Min: 8.84\n",
      "Episode 54, Average Score: 3.77, Max: 21.50, Min: 9.85\n",
      "Episode 55, Average Score: 3.98, Max: 20.55, Min: 3.77\n",
      "Episode 56, Average Score: 4.16, Max: 18.04, Min: 4.60\n",
      "Episode 57, Average Score: 4.36, Max: 22.04, Min: 10.54\n",
      "Episode 58, Average Score: 4.57, Max: 21.54, Min: 3.49\n",
      "Episode 59, Average Score: 4.81, Max: 28.11, Min: 10.09\n",
      "Episode 60, Average Score: 5.08, Max: 35.07, Min: 12.50\n",
      "Episode 61, Average Score: 5.30, Max: 29.21, Min: 12.81\n",
      "Episode 62, Average Score: 5.53, Max: 37.05, Min: 0.90\n",
      "Episode 63, Average Score: 5.76, Max: 29.93, Min: 12.08\n",
      "Episode 64, Average Score: 6.00, Max: 39.52, Min: 12.61\n",
      "Episode 65, Average Score: 6.23, Max: 27.96, Min: 12.52\n",
      "Episode 66, Average Score: 6.50, Max: 29.82, Min: 14.65\n",
      "Episode 67, Average Score: 6.70, Max: 25.77, Min: 13.29\n",
      "Episode 68, Average Score: 6.89, Max: 26.82, Min: 0.00\n",
      "Episode 69, Average Score: 7.09, Max: 30.21, Min: 16.32\n",
      "Episode 70, Average Score: 7.30, Max: 38.64, Min: 2.10\n",
      "Episode 71, Average Score: 7.53, Max: 38.58, Min: 15.54\n",
      "Episode 72, Average Score: 7.73, Max: 39.38, Min: 14.15\n",
      "Episode 73, Average Score: 7.91, Max: 26.80, Min: 15.44\n",
      "Episode 74, Average Score: 8.08, Max: 28.82, Min: 13.97\n",
      "Episode 75, Average Score: 8.28, Max: 28.49, Min: 16.32\n",
      "Episode 76, Average Score: 8.47, Max: 38.93, Min: 0.06\n",
      "Episode 77, Average Score: 8.66, Max: 39.51, Min: 15.32\n",
      "Episode 78, Average Score: 8.88, Max: 34.09, Min: 18.24\n",
      "Episode 79, Average Score: 9.07, Max: 31.96, Min: 18.27\n",
      "Episode 80, Average Score: 9.32, Max: 38.97, Min: 17.12\n",
      "Episode 81, Average Score: 9.54, Max: 36.61, Min: 13.92\n",
      "Episode 82, Average Score: 9.76, Max: 34.71, Min: 15.87\n",
      "Episode 83, Average Score: 9.96, Max: 36.33, Min: 17.52\n",
      "Episode 84, Average Score: 10.14, Max: 33.08, Min: 4.59\n",
      "Episode 85, Average Score: 10.36, Max: 35.55, Min: 13.26\n",
      "Episode 86, Average Score: 10.58, Max: 35.76, Min: 22.54\n",
      "Episode 87, Average Score: 10.82, Max: 38.44, Min: 22.05\n",
      "Episode 88, Average Score: 11.03, Max: 36.20, Min: 19.44\n",
      "Episode 89, Average Score: 11.22, Max: 36.95, Min: 17.19\n",
      "Episode 90, Average Score: 11.46, Max: 36.98, Min: 28.47\n",
      "Episode 91, Average Score: 11.69, Max: 37.85, Min: 25.55\n",
      "Episode 92, Average Score: 11.92, Max: 39.39, Min: 5.61\n",
      "Episode 93, Average Score: 12.14, Max: 38.23, Min: 23.74\n",
      "Episode 94, Average Score: 12.36, Max: 38.20, Min: 24.63\n",
      "Episode 95, Average Score: 12.59, Max: 38.89, Min: 28.76\n",
      "Episode 96, Average Score: 12.80, Max: 36.86, Min: 26.28\n",
      "Episode 97, Average Score: 13.02, Max: 39.12, Min: 28.16\n",
      "Episode 98, Average Score: 13.25, Max: 39.07, Min: 27.39\n",
      "Episode 99, Average Score: 13.47, Max: 39.19, Min: 24.07\n",
      "Episode 100, Average Score: 13.69, Max: 38.42, Min: 30.21\n",
      "Episode 101, Average Score: 14.04, Max: 37.99, Min: 26.92\n",
      "Episode 102, Average Score: 14.38, Max: 37.52, Min: 22.95\n",
      "Episode 103, Average Score: 14.74, Max: 37.40, Min: 34.61\n",
      "Episode 104, Average Score: 15.09, Max: 38.17, Min: 29.99\n",
      "Episode 105, Average Score: 15.44, Max: 37.70, Min: 31.94\n",
      "Episode 106, Average Score: 15.80, Max: 37.96, Min: 31.60\n",
      "Episode 107, Average Score: 16.13, Max: 38.16, Min: 26.39\n",
      "Episode 108, Average Score: 16.46, Max: 37.02, Min: 27.29\n",
      "Episode 109, Average Score: 16.79, Max: 38.67, Min: 26.14\n",
      "Episode 110, Average Score: 17.12, Max: 37.93, Min: 24.61\n",
      "Episode 111, Average Score: 17.45, Max: 37.76, Min: 27.60\n",
      "Episode 112, Average Score: 17.77, Max: 37.72, Min: 27.38\n",
      "Episode 113, Average Score: 18.11, Max: 38.27, Min: 30.58\n",
      "Episode 114, Average Score: 18.47, Max: 38.85, Min: 29.86\n",
      "Episode 115, Average Score: 18.80, Max: 39.41, Min: 6.09\n",
      "Episode 116, Average Score: 19.15, Max: 38.68, Min: 30.37\n",
      "Episode 117, Average Score: 19.46, Max: 37.49, Min: 25.20\n",
      "Episode 118, Average Score: 19.78, Max: 39.41, Min: 23.58\n",
      "Episode 119, Average Score: 20.13, Max: 39.54, Min: 27.36\n",
      "Episode 120, Average Score: 20.47, Max: 39.43, Min: 25.29\n",
      "Episode 121, Average Score: 20.78, Max: 39.00, Min: 19.54\n",
      "Episode 122, Average Score: 21.14, Max: 39.32, Min: 31.95\n",
      "Episode 123, Average Score: 21.47, Max: 39.17, Min: 25.96\n",
      "Episode 124, Average Score: 21.82, Max: 38.99, Min: 31.75\n",
      "Episode 125, Average Score: 22.15, Max: 38.61, Min: 23.28\n",
      "Episode 126, Average Score: 22.47, Max: 38.46, Min: 31.39\n",
      "Episode 127, Average Score: 22.81, Max: 38.83, Min: 30.65\n",
      "Episode 128, Average Score: 23.16, Max: 39.18, Min: 34.20\n",
      "Episode 129, Average Score: 23.50, Max: 38.58, Min: 31.81\n",
      "Episode 130, Average Score: 23.80, Max: 38.27, Min: 27.94\n",
      "Episode 131, Average Score: 24.11, Max: 38.27, Min: 32.10\n",
      "Episode 132, Average Score: 24.41, Max: 37.13, Min: 28.62\n",
      "Episode 133, Average Score: 24.71, Max: 39.04, Min: 20.57\n",
      "Episode 134, Average Score: 25.00, Max: 35.98, Min: 25.34\n",
      "Episode 135, Average Score: 25.30, Max: 38.95, Min: 25.52\n",
      "Episode 136, Average Score: 25.60, Max: 37.45, Min: 22.60\n",
      "Episode 137, Average Score: 25.89, Max: 36.83, Min: 23.16\n",
      "Episode 138, Average Score: 26.19, Max: 36.40, Min: 24.36\n",
      "Episode 139, Average Score: 26.48, Max: 38.11, Min: 20.02\n",
      "Episode 140, Average Score: 26.75, Max: 35.91, Min: 22.66\n",
      "Episode 141, Average Score: 27.01, Max: 36.45, Min: 20.74\n",
      "Episode 142, Average Score: 27.28, Max: 38.83, Min: 28.06\n",
      "Episode 143, Average Score: 27.58, Max: 38.74, Min: 24.79\n",
      "Episode 144, Average Score: 27.87, Max: 38.67, Min: 31.89\n",
      "Episode 145, Average Score: 28.13, Max: 38.00, Min: 28.96\n",
      "Episode 146, Average Score: 28.38, Max: 37.88, Min: 28.31\n",
      "Episode 147, Average Score: 28.63, Max: 37.46, Min: 29.86\n",
      "Episode 148, Average Score: 28.87, Max: 35.49, Min: 24.02\n",
      "Episode 149, Average Score: 29.12, Max: 38.35, Min: 29.67\n",
      "Episode 150, Average Score: 29.36, Max: 39.16, Min: 28.05\n",
      "Episode 151, Average Score: 29.60, Max: 38.33, Min: 34.04\n",
      "Episode 152, Average Score: 29.85, Max: 38.25, Min: 34.82\n",
      "Episode 153, Average Score: 30.05, Max: 39.02, Min: 33.42\n",
      "Episode 153\tAverage Score: 30.05\n"
     ]
    }
   ],
   "source": [
    "def ddpg(n_episodes=1000, max_t=3000):\n",
    "    scores_deque = deque(maxlen=100)\n",
    "    scores_final = []\n",
    "        \n",
    "    for i_episode in range(1, n_episodes+1):\n",
    "        env_info = env.reset(train_mode=True)[brain_name]      # reset the environment    \n",
    "        states = env_info.vector_observations                  # get the current state (list with each agent results)\n",
    "        scores = np.zeros(num_agents)                          # initialize the score (list with each agent results)\n",
    "        agent.reset()\n",
    "        \n",
    "        score_average = 0\n",
    "        for t in range(max_t):\n",
    "            actions = agent.act(states)\n",
    "            #actions = np.clip(actions, -1, 1)                 because already clipped in agent_ddpg.py\n",
    "            env_info = env.step(actions)[brain_name]           # send all actions to tne environment\n",
    "            next_states = env_info.vector_observations         # get next state (list with each agent results)\n",
    "            rewards = env_info.rewards                         # get reward (list with each agent results)\n",
    "            dones = env_info.local_done                        # see if episode finished\n",
    "            agent.step(states, actions, rewards, next_states, dones, t)\n",
    "            states = next_states                               # roll over states to next time step\n",
    "            scores += rewards                                  # update the score (list with each agent results)            \n",
    "            if np.any(dones):                                  # exit loop if episode finished\n",
    "                break\n",
    "        \n",
    "        score = np.mean(scores)                 # see average score among all agents for 1 episode\n",
    "        scores_deque.append(score)              # store this average in buffer (size 100)\n",
    "        score_average = np.mean(scores_deque)   # see average score among all agents for the latest episodes (up to 100)\n",
    "        scores_final.append(score)              # store all instances of average score among all agents for all episodes\n",
    "        \n",
    "        print('\\rEpisode {}, Average Score: {:.2f}, Max: {:.2f}, Min: {:.2f}'\\\n",
    "              .format(i_episode, score_average, np.max(scores), np.min(scores), end=\"\\n\"))        \n",
    "                  \n",
    "        if score_average>30:\n",
    "            torch.save(agent.actor_local.state_dict(), 'checkpoint_actor.pth')\n",
    "            torch.save(agent.critic_local.state_dict(), 'checkpoint_critic.pth')\n",
    "            print('\\rEpisode {}\\tAverage Score: {:.2f}'.format(i_episode, np.mean(scores_deque))) \n",
    "            break\n",
    "            \n",
    "    return scores_final\n",
    "\n",
    "scores = ddpg()"
   ]
  },
  {
   "cell_type": "code",
   "execution_count": 9,
   "metadata": {},
   "outputs": [
    {
     "data": {
      "image/png": "[encoded data removed]",
      "text/plain": [
       "<matplotlib.figure.Figure at 0x7f55eff66518>"
      ]
     },
     "metadata": {
      "needs_background": "light"
     },
     "output_type": "display_data"
    }
   ],
   "source": [
    "fig = plt.figure()\n",
    "ax = fig.add_subplot(111)\n",
    "plt.plot(np.arange(1, len(scores)+1), scores)\n",
    "plt.ylabel('Score')\n",
    "plt.xlabel('Episode #')\n",
    "plt.show()"
   ]
  },
  {
   "cell_type": "code",
   "execution_count": 10,
   "metadata": {},
   "outputs": [],
   "source": [
    "#When you are finished, close environment\n",
    "env.close()"
   ]
  },
  {
   "cell_type": "code",
   "execution_count": null,
   "metadata": {},
   "outputs": [],
   "source": []
  }
 ],
 "metadata": {
  "kernelspec": {
   "display_name": "Python 3",
   "language": "python",
   "name": "python3"
  },
  "language_info": {
   "codemirror_mode": {
    "name": "ipython",
    "version": 3
   },
   "file_extension": ".py",
   "mimetype": "text/x-python",
   "name": "python",
   "nbconvert_exporter": "python",
   "pygments_lexer": "ipython3",
   "version": "3.6.3"
  }
 },
 "nbformat": 4,
 "nbformat_minor": 2
}
